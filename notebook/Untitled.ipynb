{
 "cells": [
  {
   "cell_type": "code",
   "execution_count": 8,
   "id": "eda61be7-296d-4992-9f3a-43a30346477a",
   "metadata": {},
   "outputs": [],
   "source": [
    "import torch as th\n"
   ]
  },
  {
   "cell_type": "code",
   "execution_count": 26,
   "id": "dc357812-8080-4dee-ad54-b1b49be4570e",
   "metadata": {},
   "outputs": [
    {
     "data": {
      "text/plain": [
       "tensor(204)"
      ]
     },
     "execution_count": 26,
     "metadata": {},
     "output_type": "execute_result"
    }
   ],
   "source": [
    "a = torch.arange(9)\n",
    "b =  torch.arange(9)\n",
    "a.dot(b)"
   ]
  },
  {
   "cell_type": "code",
   "execution_count": 28,
   "id": "11e02313-9fcc-4e02-90e7-bb6e25d3fa75",
   "metadata": {},
   "outputs": [],
   "source": [
    "a = th.reshape(a, (3,3))\n",
    "b = th.reshape(b, (3, 3))"
   ]
  },
  {
   "cell_type": "code",
   "execution_count": 22,
   "id": "92bb6a9e-466d-487c-9fe8-877051e04e16",
   "metadata": {},
   "outputs": [
    {
     "name": "stdout",
     "output_type": "stream",
     "text": [
      "tensor([[0, 1, 2],\n",
      "        [3, 4, 5],\n",
      "        [6, 7, 8]])\n",
      "tensor([[0, 1, 2],\n",
      "        [3, 4, 5],\n",
      "        [6, 7, 8]])\n"
     ]
    }
   ],
   "source": [
    "print(a)\n",
    "print(b)"
   ]
  },
  {
   "cell_type": "code",
   "execution_count": 19,
   "id": "5d88d013-09c1-420c-a367-8e98079e0cd2",
   "metadata": {},
   "outputs": [
    {
     "data": {
      "text/plain": [
       "tensor([[ 0,  1,  4],\n",
       "        [ 9, 16, 25],\n",
       "        [36, 49, 64]])"
      ]
     },
     "execution_count": 19,
     "metadata": {},
     "output_type": "execute_result"
    }
   ],
   "source": [
    "a*b"
   ]
  },
  {
   "cell_type": "code",
   "execution_count": 20,
   "id": "6e8f8e76-6f3a-4978-a886-2ccb801cdf81",
   "metadata": {},
   "outputs": [
    {
     "data": {
      "text/plain": [
       "tensor([[ 15,  18,  21],\n",
       "        [ 42,  54,  66],\n",
       "        [ 69,  90, 111]])"
      ]
     },
     "execution_count": 20,
     "metadata": {},
     "output_type": "execute_result"
    }
   ],
   "source": [
    "a@b"
   ]
  },
  {
   "cell_type": "code",
   "execution_count": 23,
   "id": "b1894566-021f-418c-9d01-16a63be6e98a",
   "metadata": {},
   "outputs": [
    {
     "ename": "RuntimeError",
     "evalue": "1D tensors expected, but got 2D and 2D tensors",
     "output_type": "error",
     "traceback": [
      "\u001b[0;31m---------------------------------------------------------------------------\u001b[0m",
      "\u001b[0;31mRuntimeError\u001b[0m                              Traceback (most recent call last)",
      "Cell \u001b[0;32mIn[23], line 1\u001b[0m\n\u001b[0;32m----> 1\u001b[0m a\u001b[38;5;241m.\u001b[39mdot(b)\n",
      "\u001b[0;31mRuntimeError\u001b[0m: 1D tensors expected, but got 2D and 2D tensors"
     ]
    }
   ],
   "source": [
    "a.dot(b)"
   ]
  },
  {
   "cell_type": "code",
   "execution_count": null,
   "id": "99f1549b-546b-46ca-be33-4bc5b43bd19d",
   "metadata": {},
   "outputs": [],
   "source": []
  }
 ],
 "metadata": {
  "kernelspec": {
   "display_name": "Python 3 (ipykernel)",
   "language": "python",
   "name": "python3"
  },
  "language_info": {
   "codemirror_mode": {
    "name": "ipython",
    "version": 3
   },
   "file_extension": ".py",
   "mimetype": "text/x-python",
   "name": "python",
   "nbconvert_exporter": "python",
   "pygments_lexer": "ipython3",
   "version": "3.12.9"
  }
 },
 "nbformat": 4,
 "nbformat_minor": 5
}
